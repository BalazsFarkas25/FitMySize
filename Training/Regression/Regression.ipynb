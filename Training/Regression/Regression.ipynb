{
 "cells": [
  {
   "cell_type": "markdown",
   "id": "3df35562-4329-408f-b21b-7043d65e4f37",
   "metadata": {},
   "source": [
    "# Regression model to predict cm value based on dependent pixel distance value "
   ]
  },
  {
   "cell_type": "markdown",
   "id": "d66a6a86-c849-4260-ab37-98958492f5d4",
   "metadata": {},
   "source": [
    "## Create Dataset for regression model"
   ]
  },
  {
   "cell_type": "code",
   "execution_count": 36,
   "id": "2bee669c-16f8-43b1-9bd7-60e54b80b8ed",
   "metadata": {},
   "outputs": [],
   "source": [
    "import matplotlib.pyplot as plt\n",
    "import numpy as np\n",
    "from sklearn import datasets, linear_model\n",
    "from sklearn.metrics import mean_squared_error, r2_score\n",
    "import os\n",
    "import csv"
   ]
  },
  {
   "cell_type": "code",
   "execution_count": 47,
   "id": "6292970f-5483-400c-8608-e0ba61a49b4a",
   "metadata": {},
   "outputs": [],
   "source": [
    "file = open(\"./temp.csv\", 'r')\n",
    "reader = csv.DictReader(file)\n",
    "X_values = []\n",
    "Y_values = []\n",
    "for row in reader:\n",
    "    X_values.append(float(row['Pixel Distance']))\n",
    "    Y_values.append(float(row['CM Distance']))\n",
    "\n",
    "#print(X_values)\n",
    "#print(Y_values)"
   ]
  },
  {
   "cell_type": "code",
   "execution_count": 51,
   "id": "45cb3f82-461b-438a-be50-ad734993ff5c",
   "metadata": {},
   "outputs": [
    {
     "name": "stdout",
     "output_type": "stream",
     "text": [
      "Coefficients: \n",
      " [[0.03542231]]\n",
      "Mean squared error: 3.02\n",
      "Coefficient of determination: -0.12\n"
     ]
    },
    {
     "data": {
      "image/png": "[encoded data removed]",
      "text/plain": [
       "<Figure size 640x480 with 1 Axes>"
      ]
     },
     "metadata": {},
     "output_type": "display_data"
    }
   ],
   "source": [
    "# Split tto train & test dataset\n",
    "X_train = np.array([X_values[:-20]]).reshape(-1, 1)\n",
    "X_test = np.array([X_values[-20:]]).reshape(-1, 1)\n",
    "\n",
    "Y_train = np.array([Y_values[:-20]]).reshape(-1, 1)\n",
    "Y_test = np.array([Y_values[-20:]]).reshape(-1, 1)\n",
    "\n",
    "regr = linear_model.LinearRegression()\n",
    "regr.fit(X_train, Y_train)\n",
    "\n",
    "Y_pred = regr.predict(X_test)\n",
    "\n",
    "print(\"Coefficients: \\n\", regr.coef_)\n",
    "print(\"Mean squared error: %.2f\" % mean_squared_error(Y_test, Y_pred))\n",
    "print(\"Coefficient of determination: %.2f\" % r2_score(Y_test, Y_pred))\n",
    "\n",
    "plt.scatter(X_test, Y_test, color=\"black\")\n",
    "plt.plot(X_test, Y_pred, color=\"blue\", linewidth=3)\n",
    "\n",
    "plt.xticks(())\n",
    "plt.yticks(())\n",
    "\n",
    "plt.show()"
   ]
  },
  {
   "cell_type": "code",
   "execution_count": null,
   "id": "8c7b89e9-c488-48f6-a98b-93373a1c3fd4",
   "metadata": {},
   "outputs": [],
   "source": []
  }
 ],
 "metadata": {
  "kernelspec": {
   "display_name": "Python 3 (ipykernel)",
   "language": "python",
   "name": "python3"
  },
  "language_info": {
   "codemirror_mode": {
    "name": "ipython",
    "version": 3
   },
   "file_extension": ".py",
   "mimetype": "text/x-python",
   "name": "python",
   "nbconvert_exporter": "python",
   "pygments_lexer": "ipython3",
   "version": "3.11.7"
  }
 },
 "nbformat": 4,
 "nbformat_minor": 5
}
